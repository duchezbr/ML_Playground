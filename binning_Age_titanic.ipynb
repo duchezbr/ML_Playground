{
 "cells": [
  {
   "cell_type": "markdown",
   "metadata": {},
   "source": [
    "## Adaptive binning of 'Age'\n",
    "Adaptive binning is a stratgy used to relabel a continuous variables to discrete catagorical variables.  Binning continuous variables can often increase a machine learning models predictive performance.  In this notebook I will bin the 'Age' variable from the titanic dataset.  To determine the number of bins to group my data into I will iterate through several options.  On each iteration I will graph the number of survivors for each 'Age' bin to see if there is an obvious pattern that emerges to suggest ages that had the highest survival."
   ]
  },
  {
   "cell_type": "code",
   "execution_count": 1,
   "metadata": {},
   "outputs": [],
   "source": [
    "import pandas as pd\n",
    "import numpy as np\n",
    "import matplotlib.pyplot as plt\n",
    "pd.set_option(\"display.max_columns\", 20)"
   ]
  },
  {
   "cell_type": "code",
   "execution_count": 2,
   "metadata": {},
   "outputs": [],
   "source": [
    "# The function below accepts a continuous values from a pandas DataFrame feature column.  \n",
    "# Each value is assigned a catagorical label.  The number of discrete catagories that values are given is determined by the \n",
    "# input argument 'q'. \n",
    "\n",
    "def qcut_quantiles(df, q, col, labels):\n",
    "    \n",
    "    if labels==True:\n",
    "        q_labels = np.arange(q)\n",
    "        qcuts = pd.qcut(df[col], q, labels=q_labels) \n",
    "        \n",
    "    else:\n",
    "        qcuts = pd.qcut(df[col], q)\n",
    "    \n",
    "    qcuts.name='{}_{}'.format(q, col)                                                \n",
    "    return qcuts"
   ]
  },
  {
   "cell_type": "markdown",
   "metadata": {},
   "source": [
    "Import Titanic dataset"
   ]
  },
  {
   "cell_type": "code",
   "execution_count": 3,
   "metadata": {},
   "outputs": [],
   "source": [
    "df = pd.read_csv(r\"C:\\titanic\\train.csv\")"
   ]
  },
  {
   "cell_type": "markdown",
   "metadata": {},
   "source": [
    "### Feature hypothesis\n",
    "I hypothesize that Age will help to predict survival with the assumption that young children will be given priority for boarding life boats.  The histograms below seem to suggest that persons of younger age have a greater chance of survival relative to the number of passagers that boarded the titanic."
   ]
  },
  {
   "cell_type": "code",
   "execution_count": 6,
   "metadata": {},
   "outputs": [
    {
     "name": "stderr",
     "output_type": "stream",
     "text": [
      "C:\\ProgramData\\Anaconda3\\lib\\site-packages\\ipykernel_launcher.py:6: UserWarning: Boolean Series key will be reindexed to match DataFrame index.\n",
      "  \n"
     ]
    },
    {
     "data": {
      "text/plain": [
       "Text(0.5,1,'Ages of Survivors')"
      ]
     },
     "execution_count": 6,
     "metadata": {},
     "output_type": "execute_result"
    },
    {
     "data": {
      "image/png": "[encoded data removed]",
      "text/plain": [
       "<Figure size 1152x216 with 2 Axes>"
      ]
     },
     "metadata": {},
     "output_type": "display_data"
    }
   ],
   "source": [
    "fig = plt.figure(figsize=(16, 3))\n",
    "ax = fig.add_subplot(1, 2, 1)\n",
    "ax.hist(df.dropna(subset=['Age']).Age)\n",
    "plt.title('All reported Ages')\n",
    "ax = fig.add_subplot(1,2,2)\n",
    "ax.hist(df.dropna(subset=['Age'])[df['Survived']==1].Age)\n",
    "plt.title('Ages of Survivors')"
   ]
  },
  {
   "cell_type": "markdown",
   "metadata": {},
   "source": [
    "How many quantiles should I break my continous data into?  For the titanic dataset I have some intuition regarding how Age might be a relevant variable for predicting survival.  I am assuming that young children will be given priority when loading life boats and therefore will have an advantage of making in out alive.  By graphing percent survival I can validate my hypothesis and gain some idea of the optimial number of bins to use."
   ]
  },
  {
   "cell_type": "code",
   "execution_count": 7,
   "metadata": {},
   "outputs": [
    {
     "data": {
      "image/png": "[encoded data removed]",
      "text/plain": [
       "<Figure size 864x504 with 4 Axes>"
      ]
     },
     "metadata": {},
     "output_type": "display_data"
    }
   ],
   "source": [
    "#%% select number of bins to aggregate age data into\n",
    "quantiles_to_eval = np.array([5, 7, 10, 14])\n",
    "\n",
    "fig = plt.figure(figsize=(12,7))\n",
    "\n",
    "qcuts = pd.DataFrame()\n",
    "for cnt, q in enumerate(quantiles_to_eval): \n",
    "    qcut = qcut_quantiles(df, q, 'Age', labels=True)\n",
    "    qcuts=pd.DataFrame(qcut)\n",
    "    percents = list()\n",
    "    \n",
    "    # Evaluate survival percentage for each discrete age group created above\n",
    "    for i in np.arange(q):\n",
    "        \n",
    "        # note that target variable is found in boolean filter\n",
    "        percent = qcuts[(df['Survived'] == 1) & (qcuts['{}_Age'.format(q)] == i)].shape[0]/(qcuts['{}_Age'.format(q)] == i).sum()\n",
    "        percents.append(percent)\n",
    "        #print(i, percent)\n",
    "    ax = fig.add_subplot(2,2,cnt+1)\n",
    "    ax.bar(np.arange(q), percents)\n",
    "    plt.title('{}_Age'.format(q))\n",
    "plt.show()"
   ]
  },
  {
   "cell_type": "markdown",
   "metadata": {},
   "source": [
    "A pattern emerges that confirms my hypothesis but also provides addtional information regarding age groups that are likely to survie.  It appears that there is a bimodal distribution of survivors grouped by age.  The very young and middle age appear to have increased chance of survival."
   ]
  },
  {
   "cell_type": "code",
   "execution_count": null,
   "metadata": {},
   "outputs": [],
   "source": []
  }
 ],
 "metadata": {
  "kernelspec": {
   "display_name": "Python 3",
   "language": "python",
   "name": "python3"
  },
  "language_info": {
   "codemirror_mode": {
    "name": "ipython",
    "version": 3
   },
   "file_extension": ".py",
   "mimetype": "text/x-python",
   "name": "python",
   "nbconvert_exporter": "python",
   "pygments_lexer": "ipython3",
   "version": "3.6.5"
  },
  "varInspector": {
   "cols": {
    "lenName": 16,
    "lenType": 16,
    "lenVar": 40
   },
   "kernels_config": {
    "python": {
     "delete_cmd_postfix": "",
     "delete_cmd_prefix": "del ",
     "library": "var_list.py",
     "varRefreshCmd": "print(var_dic_list())"
    },
    "r": {
     "delete_cmd_postfix": ") ",
     "delete_cmd_prefix": "rm(",
     "library": "var_list.r",
     "varRefreshCmd": "cat(var_dic_list()) "
    }
   },
   "types_to_exclude": [
    "module",
    "function",
    "builtin_function_or_method",
    "instance",
    "_Feature"
   ],
   "window_display": false
  }
 },
 "nbformat": 4,
 "nbformat_minor": 2
}
