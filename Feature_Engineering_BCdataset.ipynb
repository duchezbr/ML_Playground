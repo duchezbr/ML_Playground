{
 "cells": [
  {
   "cell_type": "code",
   "execution_count": null,
   "metadata": {},
   "outputs": [],
   "source": [
    "import pandas as pd\n",
    "import numpy as np\n",
    "import matplotlib.pyplot as plt\n",
    "from sklearn.datasets import load_breast_cancer\n",
    "from sklearn.preprocessing import OneHotEncoder, LabelEncoder"
   ]
  },
  {
   "cell_type": "code",
   "execution_count": null,
   "metadata": {},
   "outputs": [],
   "source": [
    "data = load_breast_cancer()\n",
    "feature = data.data[:]\n",
    "target = data.target[:]\n",
    "target_labels = data.target_names"
   ]
  },
  {
   "cell_type": "code",
   "execution_count": null,
   "metadata": {},
   "outputs": [],
   "source": [
    "fig = plt.figure(figsize=(12, 7))\n",
    "\n",
    "for idx in np.arange(30):\n",
    "    ax = fig.add_subplot(5, 6, idx+1)\n",
    "    ax.hist(feature[:, idx])\n",
    "    plt.xticks([])\n",
    "    plt.yticks([])\n",
    "    plt.title('col =' + str(idx))"
   ]
  },
  {
   "cell_type": "markdown",
   "metadata": {},
   "source": [
    "#### Adaptive binning:\n",
    "Bin continuous numerical data for each column into quantiles and assign each row a catagoracal variable "
   ]
  },
  {
   "cell_type": "code",
   "execution_count": null,
   "metadata": {},
   "outputs": [],
   "source": [
    "# place feature data into pandas dataframe\n",
    "df = pd.DataFrame(data = feature)"
   ]
  },
  {
   "cell_type": "markdown",
   "metadata": {},
   "source": [
    "First looking at a single feature column"
   ]
  },
  {
   "cell_type": "code",
   "execution_count": null,
   "metadata": {},
   "outputs": [],
   "source": [
    "quantile_list = [0, .25, .5, .75, 1.]\n",
    "quantiles = df[0].quantile(quantile_list)\n",
    "quantiles"
   ]
  },
  {
   "cell_type": "code",
   "execution_count": null,
   "metadata": {},
   "outputs": [],
   "source": [
    "fig, ax = plt.subplots()\n",
    "df[0].hist(bins=20, alpha=0.5, grid=False)\n",
    "\n",
    "for quantile in quantiles:\n",
    "    qvl = plt.axvline(quantile, color='r')\n",
    "    ax.legend([qvl], ['Quantiles'], fontsize=10)"
   ]
  },
  {
   "cell_type": "code",
   "execution_count": null,
   "metadata": {},
   "outputs": [],
   "source": [
    "quantile_labels = ['0-25Q', '25-50Q', '50-75Q', '75-100Q']\n",
    "df['{}_quantile_range'.format(str(0))] = pd.qcut(\n",
    "                                            df[0], \n",
    "                                            q=quantile_list)\n",
    "df['{}_quantile_label'.format(str(0))] = pd.qcut(\n",
    "                                            df[0], \n",
    "                                            q=quantile_list,       \n",
    "                                            labels=quantile_labels)\n",
    "\n",
    "df[[0, '{}_quantile_range'.format(str(0)), \n",
    "               '{}_quantile_label'.format(str(0))]].sample(5)"
   ]
  },
  {
   "cell_type": "markdown",
   "metadata": {},
   "source": [
    "Generate {column #}_quantile_range and {column #}_quantile_label for each feature column\n",
    "Write to a new dataframe with only quantile labels for downstream use"
   ]
  },
  {
   "cell_type": "code",
   "execution_count": null,
   "metadata": {},
   "outputs": [],
   "source": [
    "quantile_labels = ['0-25Q', '25-50Q', '50-75Q', '75-100Q']\n",
    "\n",
    "\n",
    "df1 = pd.DataFrame()\n",
    "for i in np.arange(0, 30):\n",
    "    df['{}_quantile_range'.format(str(i))] = pd.qcut(\n",
    "                                                df[i], \n",
    "                                                q=quantile_list)\n",
    "    df['{}_quantile_label'.format(str(i))] = pd.qcut(\n",
    "                                                df[i], \n",
    "                                                q=quantile_list,       \n",
    "                                                labels=quantile_labels)\n",
    "    df1['{}_quantile_label'.format(str(i))] = df['{}_quantile_label'.format(str(i))]\n",
    "df1.head()"
   ]
  },
  {
   "cell_type": "code",
   "execution_count": null,
   "metadata": {},
   "outputs": [],
   "source": [
    "#drop reference columns that contained quantile range just because\n",
    "cols = [c for c in df.columns if 'range' in str(c)]\n",
    "df = df.drop(labels=cols, axis='columns')"
   ]
  },
  {
   "cell_type": "markdown",
   "metadata": {},
   "source": [
    "Create new dataframe that contains dummy variables for each column (one-hot-encoding for quantile catagorical values) "
   ]
  },
  {
   "cell_type": "code",
   "execution_count": null,
   "metadata": {},
   "outputs": [],
   "source": [
    "df_ohe = pd.DataFrame()\n",
    "\n",
    "for i in np.arange(0, 30):\n",
    "    le = LabelEncoder()\n",
    "    labels = le.fit_transform(df1['{}_quantile_label'.format(i)])\n",
    "    mappings = {index: label for index, label in \n",
    "                      enumerate(le.classes_)}\n",
    "    df1['{}_labels'.format(i)] = labels\n",
    "    \n",
    "    # reference only #_labels columns from original dataframe (df) to perform one_hot_encoding\n",
    "    ohe = OneHotEncoder()\n",
    "    feature_arr = ohe.fit_transform(\n",
    "                                  df1[['{}_labels'.format(i)]]).toarray()\n",
    "    feature_labels = list(le.classes_ + '_{}'.format(str(i)))\n",
    "    features = pd.DataFrame(feature_arr, \n",
    "                            columns=feature_labels)\n",
    "    df_ohe = pd.concat([df_ohe, features], axis = 1)\n"
   ]
  },
  {
   "cell_type": "code",
   "execution_count": null,
   "metadata": {},
   "outputs": [],
   "source": [
    "df_ohe.sample(10)"
   ]
  },
  {
   "cell_type": "code",
   "execution_count": null,
   "metadata": {},
   "outputs": [],
   "source": []
  },
  {
   "cell_type": "code",
   "execution_count": null,
   "metadata": {},
   "outputs": [],
   "source": []
  }
 ],
 "metadata": {
  "kernelspec": {
   "display_name": "Python 3",
   "language": "python",
   "name": "python3"
  },
  "language_info": {
   "codemirror_mode": {
    "name": "ipython",
    "version": 3
   },
   "file_extension": ".py",
   "mimetype": "text/x-python",
   "name": "python",
   "nbconvert_exporter": "python",
   "pygments_lexer": "ipython3",
   "version": "3.6.5"
  }
 },
 "nbformat": 4,
 "nbformat_minor": 2
}
